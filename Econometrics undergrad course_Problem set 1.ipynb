{
 "cells": [
  {
   "cell_type": "markdown",
   "id": "dcef553c-c5a3-4482-95c8-54ceb67a3df8",
   "metadata": {
    "tags": []
   },
   "source": [
    "# Econometrics Problem Set 1"
   ]
  },
  {
   "cell_type": "markdown",
   "id": "7ba75686-3d5a-4bcf-9e75-845999e595df",
   "metadata": {},
   "source": [
    "## In this problem set we are going to look at the realtionship between violence and unemployment rates across US states. Firstly, I am going to import all of the different libraries that I need."
   ]
  },
  {
   "cell_type": "code",
   "execution_count": 26,
   "id": "839196c1",
   "metadata": {},
   "outputs": [],
   "source": [
    "import pandas as pd\n",
    "import numpy as np\n",
    "import scipy.stats\n",
    "import statsmodels.api as sm\n",
    "import matplotlib.pyplot as plt"
   ]
  },
  {
   "cell_type": "markdown",
   "id": "ae6b0ae7-e4c7-445f-8864-4c770bceeb7a",
   "metadata": {},
   "source": [
    "## Next is to load the data in to a dataframe using pandas and take a look at the data that we have."
   ]
  },
  {
   "cell_type": "code",
   "execution_count": 27,
   "id": "57f988b7",
   "metadata": {},
   "outputs": [
    {
     "data": {
      "text/html": [
       "<div>\n",
       "<style scoped>\n",
       "    .dataframe tbody tr th:only-of-type {\n",
       "        vertical-align: middle;\n",
       "    }\n",
       "\n",
       "    .dataframe tbody tr th {\n",
       "        vertical-align: top;\n",
       "    }\n",
       "\n",
       "    .dataframe thead th {\n",
       "        text-align: right;\n",
       "    }\n",
       "</style>\n",
       "<table border=\"1\" class=\"dataframe\">\n",
       "  <thead>\n",
       "    <tr style=\"text-align: right;\">\n",
       "      <th></th>\n",
       "      <th>State</th>\n",
       "      <th>Unemployment</th>\n",
       "      <th>Violence</th>\n",
       "    </tr>\n",
       "  </thead>\n",
       "  <tbody>\n",
       "    <tr>\n",
       "      <th>0</th>\n",
       "      <td>Alabama</td>\n",
       "      <td>7.2</td>\n",
       "      <td>383.7</td>\n",
       "    </tr>\n",
       "    <tr>\n",
       "      <th>1</th>\n",
       "      <td>Alaska</td>\n",
       "      <td>7.0</td>\n",
       "      <td>635.3</td>\n",
       "    </tr>\n",
       "    <tr>\n",
       "      <th>2</th>\n",
       "      <td>Arizona</td>\n",
       "      <td>7.7</td>\n",
       "      <td>413.6</td>\n",
       "    </tr>\n",
       "    <tr>\n",
       "      <th>3</th>\n",
       "      <td>Arkansas</td>\n",
       "      <td>7.2</td>\n",
       "      <td>503.5</td>\n",
       "    </tr>\n",
       "    <tr>\n",
       "      <th>4</th>\n",
       "      <td>California</td>\n",
       "      <td>8.9</td>\n",
       "      <td>439.6</td>\n",
       "    </tr>\n",
       "  </tbody>\n",
       "</table>\n",
       "</div>"
      ],
      "text/plain": [
       "        State  Unemployment  Violence\n",
       "0     Alabama           7.2     383.7\n",
       "1      Alaska           7.0     635.3\n",
       "2     Arizona           7.7     413.6\n",
       "3    Arkansas           7.2     503.5\n",
       "4  California           8.9     439.6"
      ]
     },
     "execution_count": 27,
     "metadata": {},
     "output_type": "execute_result"
    }
   ],
   "source": [
    "file_path = r\"C:\\Users\\tomdo\\Desktop\\Stats\\econometrics\\problemset1_data.xls\"\n",
    "df = pd.read_excel(file_path)\n",
    "df.head()"
   ]
  },
  {
   "cell_type": "code",
   "execution_count": 28,
   "id": "9127a012",
   "metadata": {},
   "outputs": [
    {
     "data": {
      "image/png": "[encoded data removed]",
      "text/plain": [
       "<Figure size 720x360 with 1 Axes>"
      ]
     },
     "metadata": {
      "needs_background": "light"
     },
     "output_type": "display_data"
    }
   ],
   "source": [
    "plt.figure(figsize=(10, 5))\n",
    "plt.hist(df[\"Violence\"], bins=19, edgecolor=\"black\")\n",
    "\n",
    "plt.xlabel(\"number of victims of violent crime per 100k persons (2010).\")\n",
    "plt.ylabel(\"Frequecy\")\n",
    "\n",
    "plt.show()"
   ]
  },
  {
   "cell_type": "code",
   "execution_count": 29,
   "id": "cac3de8b",
   "metadata": {},
   "outputs": [
    {
     "data": {
      "image/png": "[encoded data removed]",
      "text/plain": [
       "<Figure size 720x360 with 1 Axes>"
      ]
     },
     "metadata": {
      "needs_background": "light"
     },
     "output_type": "display_data"
    }
   ],
   "source": [
    "plt.figure(figsize=(10, 5))\n",
    "plt.hist(df[\"Unemployment\"], bins=19, edgecolor=\"black\")\n",
    "\n",
    "plt.xlabel(\"% of labor force  unemployed (2013)\")\n",
    "plt.ylabel(\"Frequecy\")\n",
    "\n",
    "plt.show()"
   ]
  },
  {
   "cell_type": "code",
   "execution_count": 30,
   "id": "632de052",
   "metadata": {},
   "outputs": [
    {
     "data": {
      "text/html": [
       "<div>\n",
       "<style scoped>\n",
       "    .dataframe tbody tr th:only-of-type {\n",
       "        vertical-align: middle;\n",
       "    }\n",
       "\n",
       "    .dataframe tbody tr th {\n",
       "        vertical-align: top;\n",
       "    }\n",
       "\n",
       "    .dataframe thead th {\n",
       "        text-align: right;\n",
       "    }\n",
       "</style>\n",
       "<table border=\"1\" class=\"dataframe\">\n",
       "  <thead>\n",
       "    <tr style=\"text-align: right;\">\n",
       "      <th></th>\n",
       "      <th>State</th>\n",
       "      <th>Unemployment</th>\n",
       "      <th>Violence</th>\n",
       "    </tr>\n",
       "  </thead>\n",
       "  <tbody>\n",
       "    <tr>\n",
       "      <th>8</th>\n",
       "      <td>District of Columbia</td>\n",
       "      <td>8.5</td>\n",
       "      <td>1326.8</td>\n",
       "    </tr>\n",
       "  </tbody>\n",
       "</table>\n",
       "</div>"
      ],
      "text/plain": [
       "                  State  Unemployment  Violence\n",
       "8  District of Columbia           8.5    1326.8"
      ]
     },
     "execution_count": 30,
     "metadata": {},
     "output_type": "execute_result"
    }
   ],
   "source": [
    "df[df[\"Violence\"] == df[\"Violence\"].max()]"
   ]
  },
  {
   "cell_type": "code",
   "execution_count": 31,
   "id": "5fce6277",
   "metadata": {},
   "outputs": [
    {
     "data": {
      "text/html": [
       "<div>\n",
       "<style scoped>\n",
       "    .dataframe tbody tr th:only-of-type {\n",
       "        vertical-align: middle;\n",
       "    }\n",
       "\n",
       "    .dataframe tbody tr th {\n",
       "        vertical-align: top;\n",
       "    }\n",
       "\n",
       "    .dataframe thead th {\n",
       "        text-align: right;\n",
       "    }\n",
       "</style>\n",
       "<table border=\"1\" class=\"dataframe\">\n",
       "  <thead>\n",
       "    <tr style=\"text-align: right;\">\n",
       "      <th></th>\n",
       "      <th>Unemployment</th>\n",
       "      <th>Violence</th>\n",
       "    </tr>\n",
       "  </thead>\n",
       "  <tbody>\n",
       "    <tr>\n",
       "      <th>count</th>\n",
       "      <td>51.000000</td>\n",
       "      <td>51.000000</td>\n",
       "    </tr>\n",
       "    <tr>\n",
       "      <th>mean</th>\n",
       "      <td>6.764706</td>\n",
       "      <td>385.280392</td>\n",
       "    </tr>\n",
       "    <tr>\n",
       "      <th>std</th>\n",
       "      <td>1.539328</td>\n",
       "      <td>195.113742</td>\n",
       "    </tr>\n",
       "    <tr>\n",
       "      <th>min</th>\n",
       "      <td>2.900000</td>\n",
       "      <td>122.100000</td>\n",
       "    </tr>\n",
       "    <tr>\n",
       "      <th>25%</th>\n",
       "      <td>5.550000</td>\n",
       "      <td>260.850000</td>\n",
       "    </tr>\n",
       "    <tr>\n",
       "      <th>50%</th>\n",
       "      <td>6.900000</td>\n",
       "      <td>323.700000</td>\n",
       "    </tr>\n",
       "    <tr>\n",
       "      <th>75%</th>\n",
       "      <td>7.800000</td>\n",
       "      <td>475.150000</td>\n",
       "    </tr>\n",
       "    <tr>\n",
       "      <th>max</th>\n",
       "      <td>9.600000</td>\n",
       "      <td>1326.800000</td>\n",
       "    </tr>\n",
       "  </tbody>\n",
       "</table>\n",
       "</div>"
      ],
      "text/plain": [
       "       Unemployment     Violence\n",
       "count     51.000000    51.000000\n",
       "mean       6.764706   385.280392\n",
       "std        1.539328   195.113742\n",
       "min        2.900000   122.100000\n",
       "25%        5.550000   260.850000\n",
       "50%        6.900000   323.700000\n",
       "75%        7.800000   475.150000\n",
       "max        9.600000  1326.800000"
      ]
     },
     "execution_count": 31,
     "metadata": {},
     "output_type": "execute_result"
    }
   ],
   "source": [
    "df.describe()"
   ]
  },
  {
   "cell_type": "code",
   "execution_count": 54,
   "id": "d2bf417b",
   "metadata": {},
   "outputs": [
    {
     "data": {
      "text/plain": [
       "Text(0, 0.5, 'Violence')"
      ]
     },
     "execution_count": 54,
     "metadata": {},
     "output_type": "execute_result"
    },
    {
     "data": {
      "image/png": "[encoded data removed]",
      "text/plain": [
       "<Figure size 432x288 with 1 Axes>"
      ]
     },
     "metadata": {
      "needs_background": "light"
     },
     "output_type": "display_data"
    }
   ],
   "source": [
    "plt.scatter(df[\"Unemployment\"], df[\"Violence\"])\n",
    "plt.xlabel(\"Unemployment\")\n",
    "plt.ylabel(\"Violence\")"
   ]
  },
  {
   "cell_type": "code",
   "execution_count": 62,
   "id": "346ca1a4",
   "metadata": {},
   "outputs": [
    {
     "name": "stdout",
     "output_type": "stream",
     "text": [
      "The correlation coefficient between Violence and Unemployment is 0.4208817510627497\n"
     ]
    }
   ],
   "source": [
    "correlation = np.corrcoef(df[\"Violence\"], df[\"Unemployment\"])[0][1]\n",
    "correlation\n",
    "print(f\"The correlation coefficient between Violence and Unemployment is {correlation}\")"
   ]
  },
  {
   "cell_type": "code",
   "execution_count": 64,
   "id": "35053110",
   "metadata": {},
   "outputs": [
    {
     "name": "stdout",
     "output_type": "stream",
     "text": [
      "The correlation coefficient between Violence and Unemployment is 0.4208817510627495. \n",
      "The p value is 0.002102099087772618\n"
     ]
    }
   ],
   "source": [
    "c, p = scipy.stats.pearsonr(df[\"Violence\"], df[\"Unemployment\"])\n",
    "print(f\"The correlation coefficient between Violence and Unemployment is {c}. \\nThe p value is {p}\")"
   ]
  },
  {
   "cell_type": "code",
   "execution_count": null,
   "id": "0a5cb322",
   "metadata": {},
   "outputs": [],
   "source": [
    "#There is some positive correlation between violence and unemployment across the different states in the US "
   ]
  },
  {
   "cell_type": "code",
   "execution_count": 65,
   "id": "131113ac",
   "metadata": {},
   "outputs": [],
   "source": [
    "x, y = df[\"Unemployment\"], df[\"Violence\"]"
   ]
  },
  {
   "cell_type": "code",
   "execution_count": 66,
   "id": "ddf0760d",
   "metadata": {},
   "outputs": [
    {
     "name": "stderr",
     "output_type": "stream",
     "text": [
      "C:\\Users\\tomdo\\anaconda3\\lib\\site-packages\\statsmodels\\tsa\\tsatools.py:142: FutureWarning: In a future version of pandas all arguments of concat except for the argument 'objs' will be keyword-only\n",
      "  x = pd.concat(x[::order], 1)\n"
     ]
    }
   ],
   "source": [
    "x = sm.add_constant(x)"
   ]
  },
  {
   "cell_type": "code",
   "execution_count": 67,
   "id": "de5e93c6",
   "metadata": {},
   "outputs": [],
   "source": [
    "model = sm.OLS(y, x)"
   ]
  },
  {
   "cell_type": "code",
   "execution_count": 68,
   "id": "53b42471",
   "metadata": {},
   "outputs": [],
   "source": [
    "results = model.fit()"
   ]
  },
  {
   "cell_type": "code",
   "execution_count": 69,
   "id": "72c788c2",
   "metadata": {},
   "outputs": [
    {
     "name": "stdout",
     "output_type": "stream",
     "text": [
      "                            OLS Regression Results                            \n",
      "==============================================================================\n",
      "Dep. Variable:               Violence   R-squared:                       0.177\n",
      "Model:                            OLS   Adj. R-squared:                  0.160\n",
      "Method:                 Least Squares   F-statistic:                     10.55\n",
      "Date:                Wed, 27 Sep 2023   Prob (F-statistic):            0.00210\n",
      "Time:                        18:49:01   Log-Likelihood:                -335.84\n",
      "No. Observations:                  51   AIC:                             675.7\n",
      "Df Residuals:                      49   BIC:                             679.5\n",
      "Df Model:                           1                                         \n",
      "Covariance Type:            nonrobust                                         \n",
      "================================================================================\n",
      "                   coef    std err          t      P>|t|      [0.025      0.975]\n",
      "--------------------------------------------------------------------------------\n",
      "const           24.3979    113.900      0.214      0.831    -204.492     253.288\n",
      "Unemployment    53.3478     16.426      3.248      0.002      20.339      86.356\n",
      "==============================================================================\n",
      "Omnibus:                       43.512   Durbin-Watson:                   1.827\n",
      "Prob(Omnibus):                  0.000   Jarque-Bera (JB):              191.095\n",
      "Skew:                           2.169   Prob(JB):                     3.19e-42\n",
      "Kurtosis:                      11.433   Cond. No.                         32.2\n",
      "==============================================================================\n",
      "\n",
      "Notes:\n",
      "[1] Standard Errors assume that the covariance matrix of the errors is correctly specified.\n"
     ]
    }
   ],
   "source": [
    "print(results.summary())"
   ]
  },
  {
   "cell_type": "code",
   "execution_count": null,
   "id": "eeb73f81",
   "metadata": {},
   "outputs": [],
   "source": [
    "\"\"\"\n",
    "The results from this show that for a 1% increase in unemployment, on average there would tend to be 53 more cases\n",
    "of violence per 100k people.\n",
    "\n",
    "If the rate of unemployment was to increase by 1 standard deviation (1.5%) this would result in an increase in the \n",
    "cases of violence per 100k people by 1.5 * 53 = 82. The standard deviation in violence is 195 so the 1 sd move in \n",
    "unemployment would cause a 0.42 sd move in violence.\n",
    "\n",
    "\n",
    "\"\"\"\n"
   ]
  }
 ],
 "metadata": {
  "kernelspec": {
   "display_name": "Python 3 (ipykernel)",
   "language": "python",
   "name": "python3"
  },
  "language_info": {
   "codemirror_mode": {
    "name": "ipython",
    "version": 3
   },
   "file_extension": ".py",
   "mimetype": "text/x-python",
   "name": "python",
   "nbconvert_exporter": "python",
   "pygments_lexer": "ipython3",
   "version": "3.10.8"
  }
 },
 "nbformat": 4,
 "nbformat_minor": 5
}
